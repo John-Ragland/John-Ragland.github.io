{
 "cells": [
  {
   "cell_type": "code",
   "execution_count": 1,
   "metadata": {},
   "outputs": [],
   "source": [
    "import pandas as pd\n",
    "from jinja2 import Template, Environment, FileSystemLoader\n",
    "import os\n",
    "import subprocess\n",
    "import bibtexparser"
   ]
  },
  {
   "attachments": {},
   "cell_type": "markdown",
   "metadata": {},
   "source": [
    "### Generate Markdown from Template"
   ]
  },
  {
   "cell_type": "code",
   "execution_count": 5,
   "metadata": {},
   "outputs": [],
   "source": [
    "fn_pubs = '../markdown_generator/publications.tsv'\n",
    "df_pubs = pd.read_csv(fn_pubs, sep='\\t')\n",
    "pubs = df_pubs.to_dict(orient='records')"
   ]
  },
  {
   "cell_type": "code",
   "execution_count": 41,
   "metadata": {},
   "outputs": [],
   "source": [
    "# Load the Markdown template\n",
    "with open('template.md') as file:\n",
    "    template_content = file.read()\n",
    "\n",
    "# Create a Jinja2 Template object\n",
    "template = Template(template_content)\n",
    "\n",
    "# Render the template with the publications data\n",
    "markdown_output = template.render(publications=pubs)\n",
    "\n",
    "# Save the rendered Markdown content to a file\n",
    "with open('cv.md', 'w') as file:\n",
    "    file.write(markdown_output)\n"
   ]
  },
  {
   "attachments": {},
   "cell_type": "markdown",
   "metadata": {},
   "source": [
    "### Try to use custom template for html"
   ]
  },
  {
   "cell_type": "code",
   "execution_count": null,
   "metadata": {},
   "outputs": [
    {
     "ename": "",
     "evalue": "",
     "output_type": "error",
     "traceback": [
      "\u001b[1;31mRunning cells with '/usr/bin/python3' requires the ipykernel package.\n",
      "\u001b[1;31mRun the following command to install 'ipykernel' into the Python environment. \n",
      "\u001b[1;31mCommand: '/usr/bin/python3 -m pip install ipykernel -U --user --force-reinstall'"
     ]
    }
   ],
   "source": [
    "# Read the Markdown content from file\n",
    "with open('cv.md') as file:\n",
    "    markdown_content = file.read()\n",
    "\n",
    "# Create a Jinja2 environment and load the template file\n",
    "env = Environment(loader=FileSystemLoader('.'))\n",
    "template = env.get_template('cv_template.html')\n",
    "\n",
    "# Render the template with the Markdown content\n",
    "rendered_content = template.render(content=markdown_content)\n",
    "\n",
    "# Write the rendered content to a temporary Markdown file\n",
    "with open('temp.md', 'w') as file:\n",
    "    file.write(rendered_content)\n",
    "\n",
    "# Convert the temporary Markdown file to HTML using Pandoc\n",
    "subprocess.run(['pandoc', 'temp.md', '-o', 'cv.html'])\n",
    "\n",
    "# Remove the temporary Markdown file\n",
    "subprocess.run(['rm', 'temp.md'])\n"
   ]
  },
  {
   "attachments": {},
   "cell_type": "markdown",
   "metadata": {},
   "source": [
    "### Change to use bibtex (not csv)"
   ]
  },
  {
   "attachments": {},
   "cell_type": "markdown",
   "metadata": {},
   "source": [
    "##### parse bibtex file"
   ]
  },
  {
   "cell_type": "code",
   "execution_count": 2,
   "metadata": {},
   "outputs": [],
   "source": [
    "# Read the BibTeX file using bibtexparser\n",
    "with open('papers.bib') as file:\n",
    "    publications = bibtexparser.load(file).entries\n",
    "\n",
    "with open('talks.bib') as file:\n",
    "    talks = bibtexparser.load(file).entries\n",
    "\n",
    "\n",
    "with open('invited.bib') as file:\n",
    "    invited = bibtexparser.load(file).entries\n",
    "\n",
    "\n",
    "with open('thesi.bib') as file:\n",
    "    thesi = bibtexparser.load(file).entries\n"
   ]
  },
  {
   "attachments": {},
   "cell_type": "markdown",
   "metadata": {},
   "source": [
    "##### add publications / talks using jinja2"
   ]
  },
  {
   "cell_type": "code",
   "execution_count": 3,
   "metadata": {},
   "outputs": [],
   "source": [
    "# Load the Markdown template\n",
    "with open('template.md') as file:\n",
    "    template_content = file.read()\n",
    "\n",
    "# Create a Jinja2 Template object\n",
    "template = Template(template_content)\n",
    "\n",
    "# Render the template with the publications data\n",
    "markdown_output = template.render(publications=publications, talks=talks)\n",
    "\n",
    "# Save the rendered Markdown content to a file\n",
    "with open('cv.md', 'w') as file:\n",
    "    file.write(markdown_output)\n"
   ]
  },
  {
   "attachments": {},
   "cell_type": "markdown",
   "metadata": {},
   "source": [
    "##### bold every instance of me name"
   ]
  },
  {
   "cell_type": "code",
   "execution_count": 4,
   "metadata": {},
   "outputs": [],
   "source": [
    "import re\n",
    "\n",
    "def bold_string_in_markdown(markdown_content, target_string):\n",
    "    markdown_new = markdown_content.replace(target_string, '**' + target_string + '**')\n",
    "\n",
    "    return markdown_new\n",
    "\n",
    "# Read the Markdown content from file\n",
    "with open('cv.md') as file:\n",
    "    markdown_content = file.read()\n",
    "\n",
    "# Bold the target string in the Markdown content\n",
    "bolded_content = bold_string_in_markdown(markdown_content, 'Ragland, John')\n",
    "\n",
    "# Save the bolded Markdown content to a new file\n",
    "with open('cv.md', 'w') as file:\n",
    "    file.write(bolded_content)\n"
   ]
  },
  {
   "attachments": {},
   "cell_type": "markdown",
   "metadata": {},
   "source": [
    "##### build html file from custom template cv_template.html"
   ]
  },
  {
   "cell_type": "code",
   "execution_count": 5,
   "metadata": {},
   "outputs": [
    {
     "data": {
      "text/plain": [
       "CompletedProcess(args=['rm', 'temp.md'], returncode=0)"
      ]
     },
     "execution_count": 5,
     "metadata": {},
     "output_type": "execute_result"
    }
   ],
   "source": [
    "# Read the Markdown content from file\n",
    "with open('cv.md') as file:\n",
    "    markdown_content = file.read()\n",
    "\n",
    "# Create a Jinja2 environment and load the template file\n",
    "env = Environment(loader=FileSystemLoader('.'))\n",
    "template = env.get_template('cv_template.html')\n",
    "\n",
    "# Render the template with the Markdown content\n",
    "rendered_content = template.render(content=markdown_content)\n",
    "\n",
    "# Write the rendered content to a temporary Markdown file\n",
    "with open('temp.md', 'w') as file:\n",
    "    file.write(rendered_content)\n",
    "\n",
    "# Convert the temporary Markdown file to HTML using Pandoc\n",
    "subprocess.run(['pandoc', 'temp.md', '-o', 'cv.html'])\n",
    "\n",
    "# Remove the temporary Markdown file\n",
    "subprocess.run(['rm', 'temp.md'])\n"
   ]
  },
  {
   "attachments": {},
   "cell_type": "markdown",
   "metadata": {},
   "source": [
    "##### Build PDF from Markdown"
   ]
  },
  {
   "cell_type": "code",
   "execution_count": 6,
   "metadata": {},
   "outputs": [
    {
     "name": "stderr",
     "output_type": "stream",
     "text": [
      "Error producing PDF.\n",
      "! LaTeX Error: Can be used only in preamble.\n",
      "\n",
      "See the LaTeX manual or LaTeX Companion for explanation.\n",
      "Type  H <return>  for immediate help.\n",
      " ...                                              \n",
      "                                                  \n",
      "l.55 \\documentclass\n",
      "\n"
     ]
    },
    {
     "data": {
      "text/plain": [
       "CompletedProcess(args=['rm', 'temp.md'], returncode=0)"
      ]
     },
     "execution_count": 6,
     "metadata": {},
     "output_type": "execute_result"
    }
   ],
   "source": [
    "# Read the Markdown content from file\n",
    "with open('cv.md') as file:\n",
    "    markdown_content = file.read()\n",
    "\n",
    "# Create a Jinja2 environment and load the template file\n",
    "env = Environment(loader=FileSystemLoader('.'))\n",
    "template = env.get_template('cv_template.tex')\n",
    "\n",
    "# Render the template with the Markdown content\n",
    "rendered_content = template.render(content=markdown_content)\n",
    "\n",
    "# Write the rendered content to a temporary Markdown file\n",
    "with open('temp.md', 'w') as file:\n",
    "    file.write(rendered_content)\n",
    "\n",
    "# Convert the temporary Markdown file to HTML using Pandoc\n",
    "subprocess.run(['pandoc', 'temp.md', '-o', 'cv.pdf'])\n",
    "\n",
    "# Remove the temporary Markdown file\n",
    "subprocess.run(['rm', 'temp.md'])\n"
   ]
  },
  {
   "attachments": {},
   "cell_type": "markdown",
   "metadata": {},
   "source": [
    "## Add Zotero Integration"
   ]
  },
  {
   "cell_type": "code",
   "execution_count": 1,
   "metadata": {},
   "outputs": [],
   "source": [
    "from pyzotero import zotero"
   ]
  },
  {
   "cell_type": "code",
   "execution_count": 2,
   "metadata": {},
   "outputs": [],
   "source": [
    "# Set up your Zotero API credentials\n",
    "library_id = '5442436'\n",
    "library_type = 'user'  # 'user' or 'group'\n",
    "api_key = '4beyxpmgVHhZavP45bkLf5vG'"
   ]
  },
  {
   "cell_type": "code",
   "execution_count": 3,
   "metadata": {},
   "outputs": [],
   "source": [
    "# Create a Zotero API client\n",
    "zot = zotero.Zotero(library_id, library_type, api_key)\n"
   ]
  },
  {
   "cell_type": "code",
   "execution_count": 18,
   "metadata": {},
   "outputs": [],
   "source": [
    "# These keys can be found in the URL of the collection\n",
    "talks_id = 'ZRKYJLDM'\n",
    "papers_id = '8QEDMTRG'\n",
    "thesi_id = '9PJCMLTU'\n",
    "invited_id = 'I4375JL3'\n",
    "\n",
    "# Get the items in the collection\n",
    "talks = zot.collection_items(talks_id)\n",
    "papers = zot.collection_items(papers_id)\n",
    "thesi = zot.collection_items(thesi_id)\n",
    "invited = zot.collection_items(invited_id)\n",
    "\n",
    "#invited = zot.collection_items(invited_id, content='bib', style='bibtex')\n"
   ]
  },
  {
   "cell_type": "code",
   "execution_count": 26,
   "metadata": {},
   "outputs": [
    {
     "name": "stdout",
     "output_type": "stream",
     "text": [
      "conferencePaper\n",
      "conferencePaper\n",
      "conferencePaper\n",
      "conferencePaper\n",
      "conferencePaper\n",
      "conferencePaper\n",
      "conferencePaper\n",
      "conferencePaper\n",
      "conferencePaper\n",
      "conferencePaper\n",
      "conferencePaper\n",
      "conferencePaper\n"
     ]
    }
   ],
   "source": [
    "for talk in talks:\n",
    "    print(talk['data']['itemType'])"
   ]
  },
  {
   "cell_type": "code",
   "execution_count": 14,
   "metadata": {},
   "outputs": [],
   "source": [
    "papers = zot.collection_items(papers_id)\n",
    "paper_attachments = []\n",
    "for paper in papers:\n",
    "    if paper['data']['itemType']:\n",
    "        paper_attachments.append(paper)\n",
    "        papers.remove(paper)\n"
   ]
  },
  {
   "cell_type": "code",
   "execution_count": 27,
   "metadata": {},
   "outputs": [
    {
     "data": {
      "text/plain": [
       "['<div class=\"csl-entry\"> @article{Ragland_Abadi_2022_Exploring surface source contributions to ocean ambient noise interferometry.pdf }</div>']"
      ]
     },
     "execution_count": 27,
     "metadata": {},
     "output_type": "execute_result"
    }
   ],
   "source": [
    "papers_bib_entries = []\n",
    "for paper in papers:\n",
    "    papers_bib_entries.append(zot.item(paper['data']['key'], content='bib', style='bibtex'))"
   ]
  },
  {
   "cell_type": "code",
   "execution_count": 7,
   "metadata": {},
   "outputs": [],
   "source": [
    "for k,i in enumerate(talks):\n",
    "\n",
    "    start = i.index(\"@\") \n",
    "    if k == 0:\n",
    "        talks_bib = i[start:-6]\n",
    "    else:\n",
    "        talks_bib += i[start:-6]\n",
    "    talks_bib += '\\n'\n",
    "\n",
    "for k, i in enumerate(papers):\n",
    "    start = i.index(\"@\")\n",
    "    if k == 0:\n",
    "        papers_bib = i[start:-6]\n",
    "    else:\n",
    "        papers_bib += i[start:-6]\n",
    "    papers_bib += '\\n'\n",
    "\n",
    "\n",
    "for k, i in enumerate(thesi):\n",
    "    start = i.index(\"@\")\n",
    "    if k == 0:\n",
    "        thesi_bib = i[start:-6]\n",
    "    else:\n",
    "        thesi_bib += i[start:-6]\n",
    "    thesi_bib += '\\n'\n",
    "\n",
    "for k, i in enumerate(invited):\n",
    "    start = i.index(\"@\")\n",
    "    if k == 0:\n",
    "        invited_bib = i[start:-6]\n",
    "    else:\n",
    "        invited_bib += i[start:-6]\n",
    "    invited_bib += '\\n'\n"
   ]
  },
  {
   "cell_type": "code",
   "execution_count": 10,
   "metadata": {},
   "outputs": [
    {
     "data": {
      "text/plain": [
       "'@inproceedings{Ragland_Schwock_Munson_Abadi_2021, address={Seattle, WA}, title={An overview of ambient sound using OOI hydrophone network}, volume={150}, url={https://doi.org/10.1121/10.0007594}, DOI={10.1121/10.0007594}, abstractNote={The NSF-funded Ocean Observatories Initiative (OOI) is a large-scale project that provides a unique observation of the ocean, collecting acoustic, meteorological, and oceanic datasets. Specifically, for hydrophone data, there are five low frequency hydrophones (Fs\\u2009=\\u2009200 Hz), and six broadband hydrophones (Fs\\u2009=\\u200964 kHz) dispersed around the north-east pacific. This acoustic dataset presents numerous potential areas of study in the field of ambient sound analysis. In this talk, we analysis 6 years of acoustic data to identify prominent features that are present in the OOI acoustic dataset. Some notable occurrences that are observed in the dataset include volcanic activity, rain and wind noise, fin whale vocalizations, and shipping events. For all low frequency hydrophones and four of the six broadband hydrophones, we will present long-term spectrograms, time-series trends for different spectral bands, different acoustic features that are present in the dataset, and different statistical metrics about the acoustic environment. We find that 6-year, acoustic, trends vary depending on the location of the hydrophone and the spectral band that is observed. Some locations and spectral bands see increases in spectral levels while others see decreases in spectral levels over the course of the 6 years. [Work supported by ONR.]}, booktitle={The Journal of the Acoustical Society of America}, author={Ragland, John and Schwock, Felix and Munson, Matthew and Abadi, Shima}, year={2021}, month={Oct}, pages={A51} }\\n@inproceedings{Ragland_Abadi_2022, address={Denver, CO}, title={Exploring surface source distributions for ocean ambient noise interferometry with airgun shots}, volume={151}, url={https://doi.org/10.1121/10.0011063}, DOI={10.1121/10.0011063}, abstractNote={Ambient noise interferometry utilizes the cross-correlations of ambient sound to estimate the time domain Green’s function (TDGF). We have previously shown that ambient noise interferometry can resolve multi-path arrivals between two bottom-mounted hydrophones separated by 3.2 km, at a depth of 1500 m, and located 470 km off the Oregon coast. In 2019, a seismic reflection survey was conducted directly over the two hydrophones for 28 days covering a 763 km2 area. The airgun shots occurred every 37.5 m while the ship moved at a speed of ∼4.5 knots, equivalent to a shooting interval of 16 s. The hydrophone recordings during this survey provide the unique opportunity to understand the effects of the surface source distribution on the noise cross correlation function (NCCF). In this talk, we show the sensitivity of the NCCF to the surface source locations using simulated and experimental data. Then, we use the image source method to analytically define the location of the sound sources that contribute to different delay times in the NCCF. [Work supported by ONR.]}, booktitle={The Journal of the Acoustical Society of America}, author={Ragland, John and Abadi, Shima}, year={2022}, month={Apr}, pages={A190} }\\n@inproceedings{Douglass_Ragland_Abadi_2023, address={Chicago, IL}, title={Overview of distributed acoustic sensing technology and recently acquired data sets}, volume={153}, url={https://pubs.aip.org/jasa/article/153/3_supplement/A64/2885538/Overview-of-distributed-acoustic-sensing}, DOI={10.1121/10.0018174}, abstractNote={Fiber optic distributed acoustic sensing (DAS) is a recent innovation utilized primarily in the seismic community for measuring seismic acoustics signals at low frequencies (single digit Hz and below). The technique utilizes strain rates in a fiber optic cable, observed via the backscatter of light pulses, to measure the acoustic field. Recently, the capabilities of this technology to measure higher frequency acoustic fields (10s to 100s of Hz) have been explored. Low frequency marine mammals calls at ∼20 Hz and ship noises have been successfully recorded, and a recent experiment demonstrated the capability to record up to ∼500 Hz. This talk provides an overview of DAS technology and introduces two recent experiments for studying water column acoustics with DAS. A 4-day experiment conducted in November 2020 as part of the Ocean Observatories Initiative (OOI) provides data along two fiber optic cables extending west from the coast of Oregon by 65 km and 95 km, reaching depths of 590 m and 1575 m, respectively. DASCAL22, a recent experiment from October 2022, simultaneously recorded data using DAS at 2 kHz sampling rate on a cable extending 3.54km at ∼100 m depth and multiple moored hydrophones placed close to the DAS cable, allowing direct comparison between a new and existing technology.}, booktitle={The Journal of the Acoustical Society of America}, author={Douglass, Alexander S. and Ragland, John and Abadi, Shima}, year={2023}, month={Mar}, pages={A64–A64}, language={en} }\\n@inproceedings{Abadi_Douglass_Ragland_2023, address={Chicago, IL}, title={Comparing distributed acoustic sensing data with hydrophone recordings}, volume={153}, url={https://doi.org/10.1121/10.0018175}, DOI={10.1121/10.0018175}, abstractNote={Distributed acoustic sensing (DAS) is a technology that transforms telecommunication fiber optic cables into dense sensor arrays by continuously transmitting pulses of light down the cable and measuring backscattering from natural inhomogeneities within the fiber cable. The technology can densely sample the acoustic field over long ranges (up to 100 km), providing a means for large scale passive acoustic monitoring. To evaluate the capabilities of DAS, it is necessary to benchmark and calibrate the technology relative to traditional hydrophone data. The DAS Calibration Experiment 2022 (DASCAL22) recorded 9 days of both DAS and hydrophone data in Puget Sound, WA in October 2022. The DAS data were recorded with a sample rate of 2 kHz, and the cable extended 3.5 km on the seafloor between two islands, reaching depths of 100 m, and the hydrophones were moored adjacent to the DAS cable at 5 m and 25 m from the seafloor. The recordings include impulses from an active source at 1 m, 5 m, and 10 m depths, and an abundance of passive acoustic data corresponding to ship traffic, wind, and rain. This work aims to draw comparisons between the hydrophone and DAS recordings to evaluate the capability of DAS at detecting sounds at frequencies as high as 1 kHz.}, booktitle={The Journal of the Acoustical Society of America}, author={Abadi, Shima and Douglass, Alexander S. and Ragland, John}, year={2023}, month={Mar}, pages={A64} }\\n@inproceedings{Ragland_Douglass_Abadi_2023, address={Chicago, IL}, title={Using distributed acoustic sensing for ocean ambient sound analysis}, volume={153}, url={https://doi.org/10.1121/10.0018176}, DOI={10.1121/10.0018176}, abstractNote={Distributed acoustic sensing (DAS) is a technique that utilizes the back scattering in fiber optic cables to densely sample the strain rate in both space and time. This technique has been widely demonstrated as a powerful tool for seismic sensing, but the efficacy of submerged, under-sea cables for ocean acoustic sensing remains underexplored. The ocean observatories initiative (OOI) conducted a distributed acoustic sensing experiment in November of 2021, where two of the fiber optic cables continuously recorded the strain rate for four days. In this talk, the ambient sound field recorded by the OOI DAS experiment will be explored. A statistical comparison of hydrophone measurements and DAS measurements will be presented. Additionally, the possibility of using ocean ambient sound techniques, such as ambient noise interferometry will be explored and compared to hydrophone analysis. [Work supported by ONR.]}, booktitle={The Journal of the Acoustical Society of America}, author={Ragland, John and Douglass, Alexander S. and Abadi, Shima}, year={2023}, month={Mar}, pages={A64} }\\n@inproceedings{Ragland_Schwock_Liu_Abadi_2022, address={Chicago, IL}, title={Overview of ambient noise research and outreach with OOI hydrophones}, volume={2022}, url={https://ui.adsabs.harvard.edu/abs/2022AGUFMOS25E0961R}, abstractNote={The ocean observatories initiative has eleven hydrophones that constantly record ambient sound throughout the north-east Pacific Ocean. Nine of the hydrophones are mounted on the seafloor and two of the hydrophones are suspended in the sound fixing and ranging channel. Six of the hydrophones record broadband ambient sound with a sampling rate of 64 kHz. Five of the hydrophones record low frequency ambient sound with a sampling rate of 200 Hz. In this talk, an overview of research and outreach conducted by the Ocean Data Lab at the University of Washington that utilizes this acoustic data will be presented. Some of the research topics that will be presented include trends in ambient sound and using ambient noise interferometry to estimate the Green’s function between two hydrophones. For the trends in ambient sound, data from 9 of the hydrophones over six years is visualized, analyzed, and compared to previous results. Data recorded by two low-frequency hydrophones has successfully been used to estimate the Green’s function between the two hydrophones by measuring the coherence of the ambient sound. Additionally, data of opportunity has been used to experimentally explore the emergence of the Green’s function for bottom mounted hydrophones in the north-east pacific. Lastly, an online, interactive data explorer for the low frequency hydrophones will be presented. This data explorer provides the opportunity for the public to view and explore the low frequency acoustic data measured and provided by the Ocean Observatories Initiative. [work supported by ONR]}, note={Conference Name: AGU Fall Meeting Abstracts\\nADS Bibcode: 2022AGUFMOS25E0961R}, author={Ragland, John and Schwock, Felix and Liu, Zhaoyu and Abadi, Shima}, year={2022}, month={Dec}, pages={OS25E-0961} }\\n@inproceedings{Ragland_Abadi_2022, address={Nashville, TN}, title={Overview of ocean ambient noise interferometry – Theory and simulation}, volume={152}, url={https://doi.org/10.1121/10.0016311}, DOI={10.1121/10.0016311}, abstractNote={Ambient noise interferometry is a passive acoustic technique for environment characterization. The technique uses coherent ambient sound to approximate the Green’s function between two sensors. It has previously been used in ocean acoustics to passively estimate water temperature, sound-speed structure, and mode shapes as well as for sensor localization. Since this technique utilizes the ambient noise field, whose characteristics are often unknown, understanding the effects of non-isotropic ambient sound is important for ambient noise interferometry. In this talk, an overview of the theoretical literature for noise interferometry will be presented with a specific emphasis on the effects of non-isotropic ocean noise source distributions. Additionally, simulations that explore the emergence of the Green’s function will be presented. Specifically, sound source distributions and environmental parameters such as sound speed profile will be explored. Lastly, the implications of these works on the possibilities and limitations of ambient noise interferometry will be discussed. [Work supported by the ONR.]}, booktitle={The Journal of the Acoustical Society of America}, author={Ragland, John and Abadi, Shima}, year={2022}, month={Oct}, pages={A290} }\\n@inproceedings{Schwock_Ragland_Abadi_2021, title={OOIPy: A Python toolbox for accessing and analyzing sata from the Ocean Observatories Initiative}, volume={150}, url={https://asa.scitation.org/doi/abs/10.1121/10.0007845}, DOI={10.1121/10.0007845}, note={Publisher: Acoustical Society of America}, booktitle={The Journal of the Acoustical Society of America}, author={Schwock, Felix and Ragland, John and Abadi, Shima}, year={2021}, month={Oct}, pages={A123–A123} }\\n@inproceedings{Alvaro_Schwock_Ragland_Abadi_2021, address={Seattle, WA}, title={Ship detection from passive underwater acoustic recordings using machine learning}, volume={150}, url={https://asa.scitation.org/doi/abs/10.1121/10.0007848}, DOI={10.1121/10.0007848}, note={Publisher: Acoustical Society of America}, booktitle={The Journal of the Acoustical Society of America}, author={Alvaro, Alejandro and Schwock, Felix and Ragland, John and Abadi, Shima}, year={2021}, month={Oct}, pages={A124–A124} }\\n@inproceedings{Ragland_Abadi_2021, address={Seattle, WA}, title={Estimating ocean variables using ambient noise interferometry}, volume={150}, url={https://asa.scitation.org/doi/abs/10.1121/10.0007697}, DOI={10.1121/10.0007697}, note={Publisher: Acoustical Society of America}, booktitle={The Journal of the Acoustical Society of America}, author={Ragland, John and Abadi, Shima}, year={2021}, month={Oct}, pages={A82–A82} }\\n@inproceedings{Ragland_Schwock_Munson_Abadi_2021, address={Seattle, WA}, title={An overview of ambient sound using OOI hydrophone network}, volume={150}, url={https://asa.scitation.org/doi/abs/10.1121/10.0007594}, DOI={10.1121/10.0007594}, note={Publisher: Acoustical Society of America}, booktitle={The Journal of the Acoustical Society of America}, author={Ragland, John and Schwock, Felix and Munson, Matthew and Abadi, Shima}, year={2021}, month={Oct}, pages={A51–A51} }\\n@inproceedings{Ragland_Abadi_2021, address={Online Meeting}, title={Long-term noise interferometry analysis in the northeast Pacific Ocean}, volume={149}, url={https://asa.scitation.org/doi/abs/10.1121/10.0004609}, DOI={10.1121/10.0004609}, note={Publisher: Acoustical Society of America}, booktitle={The Journal of the Acoustical Society of America}, author={Ragland, John and Abadi, Shima}, year={2021}, month={Apr}, pages={A90–A90} }\\n'"
      ]
     },
     "execution_count": 10,
     "metadata": {},
     "output_type": "execute_result"
    }
   ],
   "source": [
    "talks_bib"
   ]
  },
  {
   "cell_type": "code",
   "execution_count": 11,
   "metadata": {},
   "outputs": [
    {
     "ename": "NameError",
     "evalue": "name 'invited_bib' is not defined",
     "output_type": "error",
     "traceback": [
      "\u001b[0;31m---------------------------------------------------------------------------\u001b[0m",
      "\u001b[0;31mNameError\u001b[0m                                 Traceback (most recent call last)",
      "Cell \u001b[0;32mIn[11], line 9\u001b[0m\n\u001b[1;32m      7\u001b[0m     file\u001b[39m.\u001b[39mwrite(thesi_bib)\n\u001b[1;32m      8\u001b[0m \u001b[39mwith\u001b[39;00m \u001b[39mopen\u001b[39m(\u001b[39m'\u001b[39m\u001b[39minvited.bib\u001b[39m\u001b[39m'\u001b[39m, \u001b[39m'\u001b[39m\u001b[39mw\u001b[39m\u001b[39m'\u001b[39m, encoding\u001b[39m=\u001b[39m\u001b[39m'\u001b[39m\u001b[39mutf-8\u001b[39m\u001b[39m'\u001b[39m) \u001b[39mas\u001b[39;00m file:\n\u001b[0;32m----> 9\u001b[0m     file\u001b[39m.\u001b[39mwrite(invited_bib)\n",
      "\u001b[0;31mNameError\u001b[0m: name 'invited_bib' is not defined"
     ]
    }
   ],
   "source": [
    "# Save the BibTeX file\n",
    "with open('talks.bib', 'w', encoding='utf-8') as file:\n",
    "    file.write(talks_bib)\n",
    "with open('papers.bib', 'w', encoding='utf-8') as file:\n",
    "    file.write(papers_bib)\n",
    "with open('thesi.bib', 'w', encoding='utf-8') as file:\n",
    "    file.write(thesi_bib)\n",
    "with open('invited.bib', 'w', encoding='utf-8') as file:\n",
    "    file.write(invited_bib)\n"
   ]
  },
  {
   "cell_type": "markdown",
   "metadata": {},
   "source": [
    "## Fix bugs with bibtex file"
   ]
  },
  {
   "cell_type": "code",
   "execution_count": 16,
   "metadata": {},
   "outputs": [],
   "source": [
    "import bibtexparser\n",
    "import re"
   ]
  },
  {
   "cell_type": "code",
   "execution_count": 18,
   "metadata": {},
   "outputs": [],
   "source": [
    "def edit_citation_keys(bib_file_path):\n",
    "    with open(bib_file_path, 'r') as bib_file:\n",
    "        bib_data = bib_file.readlines()\n",
    "\n",
    "    modified_bib_data = []\n",
    "    for line in bib_data:\n",
    "        if line.startswith('@'):\n",
    "            # Extract the citation key from the line\n",
    "            start_index = line.find('{') + 1\n",
    "            end_index = line.find(',')\n",
    "            citation_key = line[start_index:end_index].strip()\n",
    "\n",
    "            # Remove spaces and periods from the citation key using regex\n",
    "            citation_key = re.sub(r'[ .]', '', citation_key)\n",
    "\n",
    "            # Modify the line with the updated citation key\n",
    "            line = line[:start_index] + citation_key + line[end_index:]\n",
    "\n",
    "        modified_bib_data.append(line)\n",
    "\n",
    "    # Save the modified .bib file\n",
    "    with open(bib_file_path, 'w') as bib_file:\n",
    "        bib_file.writelines(modified_bib_data)"
   ]
  },
  {
   "cell_type": "code",
   "execution_count": 19,
   "metadata": {},
   "outputs": [],
   "source": [
    "\n",
    "edit_citation_keys('papers.bib')\n"
   ]
  },
  {
   "cell_type": "markdown",
   "metadata": {},
   "source": [
    "## Add attachment support"
   ]
  },
  {
   "cell_type": "code",
   "execution_count": 1,
   "metadata": {},
   "outputs": [],
   "source": [
    "from pyzotero import zotero\n",
    "import bibtexparser\n",
    "from jinja2 import Template, Environment, FileSystemLoader\n",
    "import re\n",
    "import subprocess\n",
    "#from ironpdf import *\n",
    "import os\n",
    "import cv_tools\n",
    "from tqdm import tqdm\n",
    "\n",
    "%load_ext autoreload\n",
    "%autoreload 2"
   ]
  },
  {
   "cell_type": "code",
   "execution_count": 2,
   "metadata": {},
   "outputs": [
    {
     "name": "stdout",
     "output_type": "stream",
     "text": [
      "loading citations from zotero...\n"
     ]
    }
   ],
   "source": [
    "# Define functions used in script\n",
    "def edit_citation_keys(bib_file_path):\n",
    "    with open(bib_file_path, 'r') as bib_file:\n",
    "        bib_data = bib_file.readlines()\n",
    "\n",
    "    modified_bib_data = []\n",
    "    for line in bib_data:\n",
    "        if line.startswith('@'):\n",
    "            # Extract the citation key from the line\n",
    "            start_index = line.find('{') + 1\n",
    "            end_index = line.find(',')\n",
    "            citation_key = line[start_index:end_index].strip()\n",
    "\n",
    "            # Remove spaces and periods from the citation key using regex\n",
    "            citation_key = re.sub(r'[ .]', '', citation_key)\n",
    "\n",
    "            # Modify the line with the updated citation key\n",
    "            line = line[:start_index] + citation_key + line[end_index:]\n",
    "\n",
    "        modified_bib_data.append(line)\n",
    "\n",
    "    # Save the modified .bib file\n",
    "    with open(bib_file_path, 'w') as bib_file:\n",
    "        bib_file.writelines(modified_bib_data)\n",
    "\n",
    "\n",
    "print('loading citations from zotero...')\n",
    "\n",
    "# Set up your Zotero API credentials (specific to user)\n",
    "library_id = '5442436'\n",
    "library_type = 'user'  # 'user' or 'group'\n",
    "api_key = '4beyxpmgVHhZavP45bkLf5vG'\n",
    "\n",
    "# Create a Zotero API client\n",
    "zot = zotero.Zotero(library_id, library_type, api_key)\n",
    "\n",
    "# These keys can be found in the URL of the collection\n",
    "talks_id = 'ZRKYJLDM'\n",
    "papers_id = '8QEDMTRG'\n",
    "thesi_id = '9PJCMLTU'\n",
    "invited_id = 'I4375JL3'\n",
    "\n",
    "# Get the items in the collection\n",
    "talks = zot.collection_items(talks_id)\n",
    "papers = zot.collection_items(papers_id)\n",
    "thesi = zot.collection_items(thesi_id)\n",
    "invited = zot.collection_items(invited_id)"
   ]
  },
  {
   "cell_type": "code",
   "execution_count": 3,
   "metadata": {},
   "outputs": [],
   "source": [
    "\n",
    "# Parse attachments and entries\n",
    "talk_attachments = []\n",
    "for talk in talks:\n",
    "    if talk['data']['itemType'] == 'attachment':\n",
    "        talk_attachments.append(talk)\n",
    "        talks.remove(talk)\n",
    "\n",
    "paper_attachments = []\n",
    "for paper in papers:\n",
    "    if paper['data']['itemType'] == 'attachment':\n",
    "        paper_attachments.append(paper)\n",
    "        papers.remove(paper)\n",
    "\n",
    "thesi_attachments = []\n",
    "for thesis in thesi:\n",
    "    if thesis['data']['itemType'] == 'attachment':\n",
    "        thesi_attachments.append(thesis)\n",
    "        thesi.remove(thesis)\n",
    "\n",
    "invited_attachments = []\n",
    "for invite in invited:\n",
    "    if invite['data']['itemType'] == 'attachment':\n",
    "        invited_attachments.append(invite)\n",
    "        invited.remove(invite)\n",
    "\n",
    "# Create List of Bibliography Entries\n",
    "talks_bib_entries = []\n",
    "for talk in talks:\n",
    "    talks_bib_entries.append(zot.item(talk['data']['key'], content='bib', style='bibtex'))\n",
    "\n",
    "papers_bib_entries = []\n",
    "for paper in papers:\n",
    "    papers_bib_entries.append(zot.item(paper['data']['key'], content='bib', style='bibtex'))\n",
    "\n",
    "thesi_bib_entries = []\n",
    "for thesis in thesi:\n",
    "    thesi_bib_entries.append(zot.item(thesis['data']['key'], content='bib', style='bibtex'))\n",
    "\n",
    "invited_bib_entries = []\n",
    "for invite in invited:\n",
    "    invited_bib_entries.append(zot.item(invite['data']['key'], content='bib', style='bibtex'))"
   ]
  },
  {
   "cell_type": "code",
   "execution_count": 12,
   "metadata": {},
   "outputs": [
    {
     "name": "stdout",
     "output_type": "stream",
     "text": [
      "Exploring surface source contributions to ocean ambient noise interferometry with airgun shots\n",
      "An overview to modeling, characterizing, and predicting the effects of internal gravity waves on acoustic propagation at basin to global scales\n",
      "Using ocean ambient sound to sense arrival time fluctuations due to temperature\n",
      "Ragland et al_2022_An overview of ambient sound using Ocean Observatories Initiative hydrophones.pdf\n",
      "An overview of ambient sound using Ocean Observatories Initiative hydrophones\n",
      "Long-term noise interferometry analysis in the northeast Pacific Ocean\n"
     ]
    }
   ],
   "source": [
    "for paper in papers:\n",
    "    print(paper['data']['title'])"
   ]
  },
  {
   "cell_type": "code",
   "execution_count": 19,
   "metadata": {},
   "outputs": [],
   "source": [
    "# add attachment files to bib entries\n",
    "files_dir_url = 'https://john-ragland.github.io/files'\n",
    "for k, paper in enumerate(papers):\n",
    "    for paper_attachment in paper_attachments:\n",
    "        if paper['key'] == paper_attachment['data']['parentItem']:\n",
    "            fn = f\"{files_dir_url}/{paper_attachment['data']['path'][12:].replace(' ','_')}\"\n",
    "            papers_bib_entries[k] = cv_tools.insert_string_before_last_brace(papers_bib_entries[k][0], f'filepath={ {fn} }')"
   ]
  },
  {
   "cell_type": "code",
   "execution_count": 36,
   "metadata": {},
   "outputs": [],
   "source": [
    "zot_dir = '/Users/jhrag/Library/CloudStorage/OneDrive-UW/zotero_library/'\n",
    "files_dir = os.path.abspath(os.path.join(os.getcwd(), '..', 'files/'))\n"
   ]
  },
  {
   "cell_type": "code",
   "execution_count": 34,
   "metadata": {},
   "outputs": [],
   "source": [
    "def delete_files_in_directory(directory_path):\n",
    "    if not os.path.exists(directory_path):\n",
    "        print(f\"Error: Directory '{directory_path}' does not exist.\")\n",
    "        return\n",
    "\n",
    "    if not os.path.isdir(directory_path):\n",
    "        print(f\"Error: '{directory_path}' is not a valid directory path.\")\n",
    "        return\n",
    "\n",
    "    file_list = os.listdir(directory_path)\n",
    "    for file_name in file_list:\n",
    "        file_path = os.path.join(directory_path, file_name)\n",
    "        if os.path.isfile(file_path):\n",
    "            try:\n",
    "                os.remove(file_path)\n",
    "                print(f\"Deleted file: {file_path}\")\n",
    "            except OSError as e:\n",
    "                print(f\"Error while deleting file: {file_path}\\n{e}\")"
   ]
  },
  {
   "cell_type": "code",
   "execution_count": 133,
   "metadata": {},
   "outputs": [
    {
     "name": "stdout",
     "output_type": "stream",
     "text": [
      "Deleted file: /Users/jhrag/Code/John-Ragland.github.io/files/Ragland_2020_Digital Simulation and Recreation of a Vacuum Tube Guitar Amp.pdf\n",
      "Deleted file: /Users/jhrag/Code/John-Ragland.github.io/files/Ragland_Abadi_2023_Towards estimating water column properties using ambient noise interferometry.pdf\n",
      "Deleted file: /Users/jhrag/Code/John-Ragland.github.io/files/Ragland_et_al_2022_Long-term_noise_interferometry_analysis_in_the_northeast_Pacific_Ocean.pdf\n",
      "Deleted file: /Users/jhrag/Code/John-Ragland.github.io/files/Ragland_Abadi_2023_Towards_estimating_water_column_properties_using_ambient_noise_interferometry.pdf\n",
      "Deleted file: /Users/jhrag/Code/John-Ragland.github.io/files/Ragland et al_2022_An overview of ambient sound using Ocean Observatories Initiative hydrophones2.pdf\n",
      "Deleted file: /Users/jhrag/Code/John-Ragland.github.io/files/Ragland_Abadi_2022_Exploring surface source contributions to ocean ambient noise interferometry2.pdf\n",
      "Deleted file: /Users/jhrag/Code/John-Ragland.github.io/files/Ragland_2020_Digital_Simulation_and_Recreation_of_a_Vacuum_Tube_Guitar_Amp.pdf\n",
      "Deleted file: /Users/jhrag/Code/John-Ragland.github.io/files/Ragland_Abadi_2022_Exploring_surface_source_contributions_to_ocean_ambient_noise_interferometry2.pdf\n",
      "Deleted file: /Users/jhrag/Code/John-Ragland.github.io/files/Ragland et al_2022_Long-term noise interferometry analysis in the northeast Pacific Ocean.pdf\n",
      "Deleted file: /Users/jhrag/Code/John-Ragland.github.io/files/Ragland_et_al_2022_An_overview_of_ambient_sound_using_Ocean_Observatories_Initiative_hydrophones2.pdf\n"
     ]
    }
   ],
   "source": [
    "delete_files_in_directory(files_dir)"
   ]
  },
  {
   "cell_type": "code",
   "execution_count": 134,
   "metadata": {},
   "outputs": [],
   "source": [
    "\n",
    "for talk_attachment in talk_attachments:\n",
    "    fn = talk_attachment['data']['path'][12:]\n",
    "    os.system(\n",
    "        f\"cp '{zot_dir}{fn}' '{files_dir}/{fn.replace(' ','_')}'\"\n",
    "    )\n",
    "for paper_attachment in paper_attachments:\n",
    "    fn = paper_attachment['data']['path'][12:]\n",
    "    os.system(\n",
    "        f\"cp '{zot_dir}{fn}' '{files_dir}/{fn.replace(' ','_')}'\"\n",
    "    )\n",
    "for thesi_attachment in thesi_attachments:\n",
    "    fn = thesi_attachment['data']['path'][12:]\n",
    "    os.system(\n",
    "        f\"cp '{zot_dir}{fn}' '{files_dir}/{fn.replace(' ','_')}'\"\n",
    "    )\n",
    "for invited_attachment in invited_attachments:\n",
    "    fn = invited_attachment['data']['path'][12:]\n",
    "    os.system(\n",
    "        f\"cp '{zot_dir}{fn}' '{files_dir}/{fn.replace(' ','_')}'\"\n",
    "    )"
   ]
  },
  {
   "cell_type": "code",
   "execution_count": null,
   "metadata": {},
   "outputs": [],
   "source": []
  }
 ],
 "metadata": {
  "kernelspec": {
   "display_name": "ooi_dev9",
   "language": "python",
   "name": "python3"
  },
  "language_info": {
   "codemirror_mode": {
    "name": "ipython",
    "version": 3
   },
   "file_extension": ".py",
   "mimetype": "text/x-python",
   "name": "python",
   "nbconvert_exporter": "python",
   "pygments_lexer": "ipython3",
   "version": "3.9.7"
  },
  "orig_nbformat": 4
 },
 "nbformat": 4,
 "nbformat_minor": 2
}
